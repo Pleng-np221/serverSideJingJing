{
 "cells": [
  {
   "cell_type": "code",
   "execution_count": 1,
   "id": "db09032f",
   "metadata": {},
   "outputs": [],
   "source": [
    "import os\n",
    "os.environ['DJANGO_ALLOW_ASYNC_UNSAFE'] = \"true\"\n",
    "\n",
    "# import modules\n",
    "from companies.models import *"
   ]
  },
  {
   "cell_type": "code",
   "execution_count": 2,
   "id": "7fa9e45a",
   "metadata": {},
   "outputs": [
    {
     "data": {
      "text/plain": [
       "<Company: Company CCC>"
      ]
     },
     "execution_count": 2,
     "metadata": {},
     "output_type": "execute_result"
    }
   ],
   "source": [
    "Company.objects.create(name=\"Company AAA\", num_employees=120, num_chairs=150, num_tables=60)\n",
    "Company.objects.create(name=\"Company BBB\", num_employees=50, num_chairs=30, num_tables=20)\n",
    "Company.objects.create(name=\"Company CCC\", num_employees=100, num_chairs=40, num_tables=40)"
   ]
  },
  {
   "cell_type": "code",
   "execution_count": 3,
   "id": "9c5698e5",
   "metadata": {},
   "outputs": [],
   "source": [
    "from django.db.models import Count, F, Value\n",
    "from django.db.models.functions import Length, Upper\n",
    "from django.db.models.lookups import GreaterThan"
   ]
  },
  {
   "cell_type": "code",
   "execution_count": 4,
   "id": "fbf9fd17",
   "metadata": {},
   "outputs": [
    {
     "data": {
      "text/plain": [
       "<QuerySet [<Company: Company CCC>]>"
      ]
     },
     "execution_count": 4,
     "metadata": {},
     "output_type": "execute_result"
    }
   ],
   "source": [
    "Company.objects.filter(num_employees__gt=F(\"num_chairs\") * 2)"
   ]
  },
  {
   "cell_type": "code",
   "execution_count": 7,
   "id": "6fe745a8",
   "metadata": {},
   "outputs": [],
   "source": [
    "company = (Company.objects.filter(num_employees__gt=F(\"num_chairs\"))\n",
    "     .annotate(chairs_needed=F(\"num_employees\") - F(\"num_chairs\"))\n",
    "     .first()\n",
    ")"
   ]
  },
  {
   "cell_type": "code",
   "execution_count": 8,
   "id": "97b369b7",
   "metadata": {},
   "outputs": [
    {
     "data": {
      "text/plain": [
       "50"
      ]
     },
     "execution_count": 8,
     "metadata": {},
     "output_type": "execute_result"
    }
   ],
   "source": [
    "company.num_employees"
   ]
  },
  {
   "cell_type": "code",
   "execution_count": 2,
   "id": "ca574aed",
   "metadata": {},
   "outputs": [],
   "source": [
    "from django.db.models.functions import Greatest"
   ]
  },
  {
   "cell_type": "code",
   "execution_count": 3,
   "id": "cb5c71f0",
   "metadata": {},
   "outputs": [],
   "source": [
    "blog = Blog.objects.create(body=\"Greatest is the best.\")\n",
    "comment = Comment.objects.create(body=\"No, Least is better.\", blog=blog)\n",
    "comments = Comment.objects.annotate(last_updated=Greatest(\"modified\", \"blog__modified\"))"
   ]
  },
  {
   "cell_type": "code",
   "execution_count": 4,
   "id": "5d89b414",
   "metadata": {},
   "outputs": [],
   "source": [
    "from django.db.models.functions import Now"
   ]
  },
  {
   "cell_type": "code",
   "execution_count": 5,
   "id": "8b140716",
   "metadata": {},
   "outputs": [],
   "source": [
    "from django.db.models import CharField, Value\n",
    "from django.db.models.functions import Concat"
   ]
  },
  {
   "cell_type": "code",
   "execution_count": null,
   "id": "1b32487d",
   "metadata": {},
   "outputs": [],
   "source": []
  }
 ],
 "metadata": {
  "kernelspec": {
   "display_name": "Django Shell-Plus",
   "language": "python",
   "name": "django_extensions"
  },
  "language_info": {
   "codemirror_mode": {
    "name": "ipython",
    "version": 3
   },
   "file_extension": ".py",
   "mimetype": "text/x-python",
   "name": "python",
   "nbconvert_exporter": "python",
   "pygments_lexer": "ipython3",
   "version": "3.13.2"
  }
 },
 "nbformat": 4,
 "nbformat_minor": 5
}
