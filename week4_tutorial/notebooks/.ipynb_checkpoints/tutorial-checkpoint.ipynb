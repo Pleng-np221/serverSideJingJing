{
 "cells": [
  {
   "cell_type": "code",
   "execution_count": 3,
   "id": "71cad822",
   "metadata": {},
   "outputs": [],
   "source": [
    "import os\n",
    "os.environ[\"DJANGO_ALLOW_ASYNC_UNSAFE\"] = \"true\""
   ]
  },
  {
   "cell_type": "code",
   "execution_count": 4,
   "id": "045d5bab",
   "metadata": {
    "scrolled": true
   },
   "outputs": [
    {
     "name": "stdout",
     "output_type": "stream",
     "text": [
      "New Name\n",
      "Cheddar Talk\n",
      "Beatles Blog\n"
     ]
    }
   ],
   "source": [
    "for blog in Blog.objects.all():\n",
    "    print(blog)"
   ]
  },
  {
   "cell_type": "code",
   "execution_count": 6,
   "id": "b3b66c16",
   "metadata": {},
   "outputs": [],
   "source": [
    "from blogs.models import Blog\n",
    "from blogs.models import Entry\n",
    "import datetime"
   ]
  },
  {
   "cell_type": "markdown",
   "id": "640c6037",
   "metadata": {},
   "source": [
    "markdown AKA note"
   ]
  },
  {
   "cell_type": "code",
   "execution_count": 9,
   "id": "d0f67116",
   "metadata": {},
   "outputs": [
    {
     "data": {
      "text/plain": [
       "<QuerySet [<Entry: What's up>]>"
      ]
     },
     "execution_count": 9,
     "metadata": {},
     "output_type": "execute_result"
    }
   ],
   "source": [
    "Entry.objects.filter(headline__startswith=\"What\").exclude(pub_date__gte=datetime.date.today()).filter(pub_date__gte=datetime.date(2005, 1, 30))"
   ]
  },
  {
   "cell_type": "code",
   "execution_count": 10,
   "id": "d66f2b1f",
   "metadata": {},
   "outputs": [],
   "source": [
    "entries = Entry.objects.filter(headline__startswith=\"What\").exclude(pub_date__gte=datetime.date.today()).filter(pub_date__gte=datetime.date(2005, 1, 30))"
   ]
  },
  {
   "cell_type": "code",
   "execution_count": 11,
   "id": "87d73b84",
   "metadata": {},
   "outputs": [
    {
     "data": {
      "text/plain": [
       "<Entry: What's up>"
      ]
     },
     "execution_count": 11,
     "metadata": {},
     "output_type": "execute_result"
    }
   ],
   "source": [
    "entries[0]"
   ]
  },
  {
   "cell_type": "code",
   "execution_count": 13,
   "id": "761f9cdb",
   "metadata": {},
   "outputs": [
    {
     "data": {
      "text/plain": [
       "\"What's up\""
      ]
     },
     "execution_count": 13,
     "metadata": {},
     "output_type": "execute_result"
    }
   ],
   "source": [
    "entries[0].headline"
   ]
  },
  {
   "cell_type": "code",
   "execution_count": 16,
   "id": "2c4c945c",
   "metadata": {},
   "outputs": [
    {
     "data": {
      "text/plain": [
       "<Entry: First entry>"
      ]
     },
     "execution_count": 16,
     "metadata": {},
     "output_type": "execute_result"
    }
   ],
   "source": [
    "Entry.objects.get(pk=1)"
   ]
  },
  {
   "cell_type": "code",
   "execution_count": 17,
   "id": "032821cb",
   "metadata": {},
   "outputs": [
    {
     "data": {
      "text/plain": [
       "<Entry: First entry>"
      ]
     },
     "execution_count": 17,
     "metadata": {},
     "output_type": "execute_result"
    }
   ],
   "source": [
    "Entry.objects.filter(pk=1).first()"
   ]
  },
  {
   "cell_type": "code",
   "execution_count": 18,
   "id": "770b9f1c",
   "metadata": {},
   "outputs": [
    {
     "data": {
      "text/plain": [
       "<Entry: First entry>"
      ]
     },
     "execution_count": 18,
     "metadata": {},
     "output_type": "execute_result"
    }
   ],
   "source": [
    "Entry.objects.filter(pk=1)[0]"
   ]
  },
  {
   "cell_type": "code",
   "execution_count": 19,
   "id": "65c4b6d1",
   "metadata": {},
   "outputs": [
    {
     "data": {
      "text/plain": [
       "<Entry: What's up>"
      ]
     },
     "execution_count": 19,
     "metadata": {},
     "output_type": "execute_result"
    }
   ],
   "source": [
    "Entry.objects.filter(pub_date__gte=datetime.date(2005, 1, 30)).last()"
   ]
  },
  {
   "cell_type": "code",
   "execution_count": 20,
   "id": "305690f8",
   "metadata": {},
   "outputs": [
    {
     "data": {
      "text/plain": [
       "<QuerySet [<Entry: First entry>, <Entry: What's up>]>"
      ]
     },
     "execution_count": 20,
     "metadata": {},
     "output_type": "execute_result"
    }
   ],
   "source": [
    "Entry.objects.filter(pub_date__gte=datetime.date(2005, 1, 30))"
   ]
  },
  {
   "cell_type": "code",
   "execution_count": null,
   "id": "19ebc256",
   "metadata": {},
   "outputs": [],
   "source": []
  }
 ],
 "metadata": {
  "kernelspec": {
   "display_name": "Django Shell-Plus",
   "language": "python",
   "name": "django_extensions"
  },
  "language_info": {
   "codemirror_mode": {
    "name": "ipython",
    "version": 3
   },
   "file_extension": ".py",
   "mimetype": "text/x-python",
   "name": "python",
   "nbconvert_exporter": "python",
   "pygments_lexer": "ipython3",
   "version": "3.13.0"
  }
 },
 "nbformat": 4,
 "nbformat_minor": 5
}
